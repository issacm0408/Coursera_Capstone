{
 "cells": [
  {
   "cell_type": "markdown",
   "metadata": {},
   "source": [
    "# Capstone Project - The Battle of Neighborhoods\n",
    "\n",
    "### ---What kind of restaurant should l open in downtown Shanghai?"
   ]
  },
  {
   "cell_type": "markdown",
   "metadata": {},
   "source": [
    "## Table of contents\n",
    "* [Introduction: Business Problem](#introduction)\n",
    "* [Data](#data)"
   ]
  },
  {
   "cell_type": "markdown",
   "metadata": {},
   "source": [
    "\n",
    "\n",
    "## Introduction: Business Problem <a name=\"introduction\"></a>"
   ]
  },
  {
   "cell_type": "markdown",
   "metadata": {},
   "source": [
    "Shanghai, one of the four direct-controlled municipalities in China, has always been described as the \"showpiece\" of the booming economy only after the United States. As the financial and economic hub of China, Shanghai is a great place offering plenty of opportunities for people who want to succeed and thrive. On the other hand, greater opportunities come with fiercer competitions as starting a new business in Shanghai always means having hundreds and thousands of potential rivals from around the country and the world beyond. Therefore, it is of vital importance to be well-informed and better prepared before large financial resources are pulled in. This is especially true for people thinking of openning a new restaurant in the downtown area of Shanghai as there are just so many different restaurants catering to the various appetites of people working or living in the city center, most of whom could be white collar workers, foreigners and residents who are more likely to be middle-class or above. \n",
    "\n",
    "This project, through data analysis, tries to provide insights for decision makers by answering the following questions:\n",
    "\n",
    "* What kind of restaurant should l open?\n",
    "* Where should my restaurant be located to ensure better profitablity?"
   ]
  },
  {
   "cell_type": "markdown",
   "metadata": {},
   "source": [
    "## Data <a name=\"data\"></a>"
   ]
  },
  {
   "cell_type": "markdown",
   "metadata": {},
   "source": [
    "Data Sources:\n",
    "\n",
    "* Population and its density in Shanghai by district (preferrable if foreigners are included, including workers and permitted residents)\n",
    "* Restaurant Info by Foursquare(restaurant type, rate, price range)\n",
    "* More data may be required as we dig deeper into the data...\n",
    "\n",
    "We need these data because we want to know:\n",
    "\n",
    "* what are the most common restaurants in downtown Shanghai?\n",
    "* After the area is identified, what is its characteristics?\n",
    "* How about the price range and ratings regarding those popular restaurants?\n",
    "* more insights could be generated as we dig deeper into the data...\n"
   ]
  },
  {
   "cell_type": "markdown",
   "metadata": {},
   "source": [
    "Now we begin searching our data, our prime data source turned out to be:\n",
    "\n",
    "### **Shanghai Statistical Yearbook 2019**\n",
    "\n",
    "(http://tjj.sh.gov.cn/tjnj/20200427/4aa08fba106d45fda6cb39817d961c98.html).\n",
    "\n"
   ]
  },
  {
   "cell_type": "markdown",
   "metadata": {},
   "source": [
    "_______________________________________________\n",
    "We can locate the data we mentioned above from:\n",
    "    \n",
    "**2.2  LAND AREA, POPULATION AND DENSITY OF POPULATION IN DISTRICTS (2018)**\n",
    "\n",
    "http://tjj.sh.gov.cn/tjnj/nj19.htm?d1=2019tjnje/E0202.htm\n",
    "\n",
    "And we find more potentially useful data to help us achieving our goal: \n",
    "    \n",
    "**2.5 MIGRATION OF REGISTERED POPULATION IN DISTRICTS (2017～2018)**\n",
    "\n",
    "http://tjj.sh.gov.cn/tjnj/nj19.htm?d1=2019tjnje/E0205.htm\n",
    "\n",
    "**2.6 AGE STRUCTURE OF REGISTERED POPULATION IN DISTRICTS (2018)**\n",
    "\n",
    "http://tjj.sh.gov.cn/tjnj/nj19.htm?d1=2019tjnje/E0206.htm\n",
    "\n",
    "**2.11 RESIDENT FOREIGNERS IN SHANGHAI IN MAIN YEARS**\n",
    "\n",
    "http://tjj.sh.gov.cn/tjnj/nj19.htm?d1=2019tjnje/E0211.htm\n",
    "    \n",
    "**GDP Per Papita By District (2019)**\n",
    "\n",
    "http://sh.people.com.cn/n2/2020/1103/c134768-34390634.html\n",
    "\n",
    "**Residents Monthly Salary and Average Housing Prices By Districts(2019)**\n",
    "\n",
    "https://www.tudinet.com/read/15198.html\n",
    "\n",
    "*Note: Some of the data may not come from official source, which could potentially lower the accuracy and objectiveness of our data. We tried our best to find the most reliable data, but it's just difficult to find district-level data since not all of them are made available by the government, or some of them are just not there. Given that most of data won't fluctuate too much within 1-2 years when the economy is generally stable, the trend they show can still generate valuable insights.*"
   ]
  },
  {
   "cell_type": "markdown",
   "metadata": {},
   "source": [
    "So far we have comfirmed the following features(or variables) that could affect the result:\n",
    "\n",
    "* POPULATION\n",
    "* POPULATION DENSITY\n",
    "* MIGRATION OF REGISTERED POPULATION \n",
    "* AGE STRUCTURE OF REGISTERED POPULATION\n",
    "* GDP \n",
    "* GDP PER CAPITA\n",
    "* RESIDENTS MONTHLY SALARY\n",
    "* AVERAGE HOUSING PRICE\n"
   ]
  },
  {
   "cell_type": "markdown",
   "metadata": {},
   "source": [
    "Next, we also need to find data of neighborhoods in Shanghai by districts. \n",
    "\n",
    "A neighborhood, by its definition, is an area where people live and interact with one another. Neighborhoods tend to have their own identity, or \"feel\" based on the people who live there and the places nearby. \n",
    "\n",
    "In Shanghai's administrative division scheme, the concept of 'neighborhood' is similar to 'sub-district'('街道') , which indicates an area consisting of dozens of residential communities('小区') that is governed by the so-called 'subdistirct office'('街道办事处'),  with a series of necessary life infrastructures like small-scale stores, restaurants, vegetable markets('菜市场', biscally equivalent to grocery store), parks, shopping malls etc. Other equivalent bodies include 'town'('镇'), 'township'('乡'), 'county'('县') usually governed by the government at its own level. When people are considering buying a new house in Shanghai, the overall quality of a sub-district is important. This is basically,in westerner's case, finding answers to questions like 'How is this community?', 'Is the neighborhood quiet and friendly?', etc.\n",
    "\n",
    "However, as there are usually 10-20 subdistricts in one single district, for the ease of analysis, we will consider decompose the district into several representional blocks based on how most real estate information apps in China like Lianjia(链家), Fangtianxia(房天下) decompose a district. This division method is rather arbitrary but it is effective as the sub-divisions you find in these apps do reflect how local residents perceive the composition of the district they are living in conventionally.\n",
    "\n",
    "Also, because we are focusing our analysis on downtown Shanghai, so we will only consider districts that are considered as the urban core of Shanghai historically, which include:\n",
    "\n",
    "* Huangpu District\n",
    "* Xuhui District\n",
    "* Jingan District\n",
    "* Changning District\n",
    "* Hongkou District\n",
    "* Yangpu District\n",
    "* Putuo District\n"
   ]
  },
  {
   "cell_type": "markdown",
   "metadata": {},
   "source": [
    "So far, l have explained what data we need and why they are important. Next, we will try to obtain all relevant data and manipulate them to eventually form 2 datasets. They are:\n",
    "\n",
    "**dis_info_center**, containing all demographic and relevant infomation regarding the 7 central administrative districts in Shanghai mentioned above.\n",
    "\n",
    "**dis_neigh**, containing neighbourhoods in central districts that are arbitrarily defined and their latitudes and longitudes. \n",
    "\n",
    "These 2 datasets will be our primary data for later analysis. \n",
    "\n",
    "\n",
    "    \n",
    "    "
   ]
  }
 ],
 "metadata": {
  "kernelspec": {
   "display_name": "Python 3",
   "language": "python",
   "name": "python3"
  },
  "language_info": {
   "codemirror_mode": {
    "name": "ipython",
    "version": 3
   },
   "file_extension": ".py",
   "mimetype": "text/x-python",
   "name": "python",
   "nbconvert_exporter": "python",
   "pygments_lexer": "ipython3",
   "version": "3.8.3"
  }
 },
 "nbformat": 4,
 "nbformat_minor": 4
}
